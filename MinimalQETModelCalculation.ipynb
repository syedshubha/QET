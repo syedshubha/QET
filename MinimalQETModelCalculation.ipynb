{
  "nbformat": 4,
  "nbformat_minor": 0,
  "metadata": {
    "colab": {
      "provenance": [],
      "authorship_tag": "ABX9TyOFWl5oZOW/E0fxZXqouTXa",
      "include_colab_link": true
    },
    "kernelspec": {
      "name": "python3",
      "display_name": "Python 3"
    },
    "language_info": {
      "name": "python"
    }
  },
  "cells": [
    {
      "cell_type": "markdown",
      "metadata": {
        "id": "view-in-github",
        "colab_type": "text"
      },
      "source": [
        "<a href=\"https://colab.research.google.com/github/syedshubha/QET/blob/main/MinimalQETModelCalculation.ipynb\" target=\"_parent\"><img src=\"https://colab.research.google.com/assets/colab-badge.svg\" alt=\"Open In Colab\"/></a>"
      ]
    },
    {
      "cell_type": "markdown",
      "source": [
        "# In this section we will find the ground state of $H_{tot}$ "
      ],
      "metadata": {
        "id": "VcEEjD-As4YR"
      }
    },
    {
      "cell_type": "code",
      "execution_count": null,
      "metadata": {
        "id": "G9zlVjY3NnMQ"
      },
      "outputs": [],
      "source": [
        "from sympy import *\n",
        "from sympy.physics.quantum import TensorProduct"
      ]
    },
    {
      "cell_type": "code",
      "source": [
        "init_printing(pretty_print=True)"
      ],
      "metadata": {
        "id": "KHWiCD6T9Ycg"
      },
      "execution_count": null,
      "outputs": []
    },
    {
      "cell_type": "code",
      "source": [
        "id= Matrix([[1,0],[0,1]])\n",
        "Z= Matrix([[1,0],[0,-1]])\n",
        "X= Matrix([[0,1],[1,0]])"
      ],
      "metadata": {
        "id": "yHFigUFFN4Pl"
      },
      "execution_count": null,
      "outputs": []
    },
    {
      "cell_type": "code",
      "source": [
        "Z0= TensorProduct(Z, id)\n",
        "Z1= TensorProduct(id, Z)\n",
        "I = TensorProduct(id, id)\n",
        "X0X1 = TensorProduct(X, X)"
      ],
      "metadata": {
        "id": "XumYLvm3UoAn"
      },
      "execution_count": null,
      "outputs": []
    },
    {
      "cell_type": "code",
      "source": [
        "h, k = symbols(\"h k\")"
      ],
      "metadata": {
        "id": "ibDefvdjV8qp"
      },
      "execution_count": null,
      "outputs": []
    },
    {
      "cell_type": "code",
      "source": [
        "H0= h*Z0+((h**2)/(h**2+k**2)**0.5)*I;\n",
        "print(H0)"
      ],
      "metadata": {
        "colab": {
          "base_uri": "https://localhost:8080/"
        },
        "id": "ptXnEQ9VWXHt",
        "outputId": "63ac49c6-326a-47cc-aab1-9fd1afcefb49"
      },
      "execution_count": null,
      "outputs": [
        {
          "output_type": "stream",
          "name": "stdout",
          "text": [
            "Matrix([[h**2/(h**2 + k**2)**0.5 + h, 0, 0, 0], [0, h**2/(h**2 + k**2)**0.5 + h, 0, 0], [0, 0, h**2/(h**2 + k**2)**0.5 - h, 0], [0, 0, 0, h**2/(h**2 + k**2)**0.5 - h]])\n"
          ]
        }
      ]
    },
    {
      "cell_type": "code",
      "source": [
        "H1= h*Z1+((h**2)/(h**2+k**2)**0.5)*I;\n",
        "print(H1)"
      ],
      "metadata": {
        "colab": {
          "base_uri": "https://localhost:8080/"
        },
        "id": "sMBnVIJbXUNJ",
        "outputId": "b38a1650-3537-463c-b08d-ac0c8b63e99c"
      },
      "execution_count": null,
      "outputs": [
        {
          "output_type": "stream",
          "name": "stdout",
          "text": [
            "Matrix([[h**2/(h**2 + k**2)**0.5 + h, 0, 0, 0], [0, h**2/(h**2 + k**2)**0.5 - h, 0, 0], [0, 0, h**2/(h**2 + k**2)**0.5 + h, 0], [0, 0, 0, h**2/(h**2 + k**2)**0.5 - h]])\n"
          ]
        }
      ]
    },
    {
      "cell_type": "code",
      "source": [
        "V= 2*k*X0X1+((2*k**2)/(h**2+k**2)**0.5)*I;\n",
        "print(V)"
      ],
      "metadata": {
        "colab": {
          "base_uri": "https://localhost:8080/"
        },
        "id": "Qr7mFMXDXbY3",
        "outputId": "3b24af40-ffde-45af-8d4b-b2da0e82f1f8"
      },
      "execution_count": null,
      "outputs": [
        {
          "output_type": "stream",
          "name": "stdout",
          "text": [
            "Matrix([[2*k**2/(h**2 + k**2)**0.5, 0, 0, 2*k], [0, 2*k**2/(h**2 + k**2)**0.5, 2*k, 0], [0, 2*k, 2*k**2/(h**2 + k**2)**0.5, 0], [2*k, 0, 0, 2*k**2/(h**2 + k**2)**0.5]])\n"
          ]
        }
      ]
    },
    {
      "cell_type": "code",
      "source": [
        "H = H0 + H1 + V\n",
        "print(H)"
      ],
      "metadata": {
        "colab": {
          "base_uri": "https://localhost:8080/"
        },
        "id": "OiFX8vbBX2dI",
        "outputId": "581328c9-61cb-4ab2-8f96-efcbab8f05f4"
      },
      "execution_count": null,
      "outputs": [
        {
          "output_type": "stream",
          "name": "stdout",
          "text": [
            "Matrix([[2*h**2/(h**2 + k**2)**0.5 + 2*h + 2*k**2/(h**2 + k**2)**0.5, 0, 0, 2*k], [0, 2*h**2/(h**2 + k**2)**0.5 + 2*k**2/(h**2 + k**2)**0.5, 2*k, 0], [0, 2*k, 2*h**2/(h**2 + k**2)**0.5 + 2*k**2/(h**2 + k**2)**0.5, 0], [2*k, 0, 0, 2*h**2/(h**2 + k**2)**0.5 - 2*h + 2*k**2/(h**2 + k**2)**0.5]])\n"
          ]
        }
      ]
    },
    {
      "cell_type": "code",
      "source": [
        "H_tot= h*(Z0+Z1)+2*k*(X0X1)+(2*sqrt(h**2+k**2))*I;\n",
        "print(H_tot)"
      ],
      "metadata": {
        "colab": {
          "base_uri": "https://localhost:8080/"
        },
        "id": "HZo8LvAmZuZ4",
        "outputId": "1b6798ef-76da-4ad9-9b30-520cc4ab7da4"
      },
      "execution_count": null,
      "outputs": [
        {
          "output_type": "stream",
          "name": "stdout",
          "text": [
            "Matrix([[2*h + 2*sqrt(h**2 + k**2), 0, 0, 2*k], [0, 2*sqrt(h**2 + k**2), 2*k, 0], [0, 2*k, 2*sqrt(h**2 + k**2), 0], [2*k, 0, 0, -2*h + 2*sqrt(h**2 + k**2)]])\n"
          ]
        }
      ]
    },
    {
      "cell_type": "code",
      "source": [
        "Eq(H, H_tot)"
      ],
      "metadata": {
        "colab": {
          "base_uri": "https://localhost:8080/",
          "height": 212
        },
        "id": "egrfTYkfaIyH",
        "outputId": "f116f4d2-873c-4d21-94f0-8d87d687a8c5"
      },
      "execution_count": null,
      "outputs": [
        {
          "output_type": "execute_result",
          "data": {
            "text/plain": [
              "⎡              -0.5                       -0.5                                \n",
              "⎢   2 ⎛ 2    2⎞                2 ⎛ 2    2⎞                                    \n",
              "⎢2⋅h ⋅⎝h  + k ⎠     + 2⋅h + 2⋅k ⋅⎝h  + k ⎠                         0          \n",
              "⎢                                                                             \n",
              "⎢                                                             -0.5            \n",
              "⎢                                                  2 ⎛ 2    2⎞          2 ⎛ 2 \n",
              "⎢                      0                        2⋅h ⋅⎝h  + k ⎠     + 2⋅k ⋅⎝h  \n",
              "⎢                                                                             \n",
              "⎢                                                                             \n",
              "⎢                                                                             \n",
              "⎢                      0                                          2⋅k         \n",
              "⎢                                                                             \n",
              "⎢                                                                             \n",
              "⎢                                                                             \n",
              "⎣                     2⋅k                                          0          \n",
              "\n",
              "                                                                              \n",
              "                                                                              \n",
              "                              0                                          2⋅k  \n",
              "                                                                              \n",
              "     -0.5                                                                     \n",
              "   2⎞                                                                         \n",
              "+ k ⎠                        2⋅k                                          0   \n",
              "                                                                              \n",
              "                         -0.5                 -0.5                            \n",
              "              2 ⎛ 2    2⎞          2 ⎛ 2    2⎞                                \n",
              "           2⋅h ⋅⎝h  + k ⎠     + 2⋅k ⋅⎝h  + k ⎠                            0   \n",
              "                                                                              \n",
              "                                                                  -0.5        \n",
              "                                                       2 ⎛ 2    2⎞            \n",
              "                              0                     2⋅h ⋅⎝h  + k ⎠     - 2⋅h +\n",
              "\n",
              "                   ⎤   ⎡           _________                                  \n",
              "                   ⎥   ⎢          ╱  2    2                                   \n",
              "                   ⎥   ⎢2⋅h + 2⋅╲╱  h  + k          0               0         \n",
              "                   ⎥   ⎢                                                      \n",
              "                   ⎥   ⎢                           _________                  \n",
              "                   ⎥   ⎢                          ╱  2    2                   \n",
              "                   ⎥   ⎢         0            2⋅╲╱  h  + k         2⋅k        \n",
              "                   ⎥ = ⎢                                                      \n",
              "                   ⎥   ⎢                                           _________  \n",
              "                   ⎥   ⎢                                          ╱  2    2   \n",
              "                   ⎥   ⎢         0                 2⋅k        2⋅╲╱  h  + k    \n",
              "                   ⎥   ⎢                                                      \n",
              "               -0.5⎥   ⎢                                                      \n",
              "    2 ⎛ 2    2⎞    ⎥   ⎢                                                      \n",
              " 2⋅k ⋅⎝h  + k ⎠    ⎦   ⎣        2⋅k                 0               0         \n",
              "\n",
              "                     ⎤\n",
              "                     ⎥\n",
              "         2⋅k         ⎥\n",
              "                     ⎥\n",
              "                     ⎥\n",
              "                     ⎥\n",
              "          0          ⎥\n",
              "                     ⎥\n",
              "                     ⎥\n",
              "                     ⎥\n",
              "          0          ⎥\n",
              "                     ⎥\n",
              "            _________⎥\n",
              "           ╱  2    2 ⎥\n",
              "-2⋅h + 2⋅╲╱  h  + k  ⎦"
            ],
            "text/latex": "$\\displaystyle \\left[\\begin{matrix}\\frac{2 h^{2}}{\\left(h^{2} + k^{2}\\right)^{0.5}} + 2 h + \\frac{2 k^{2}}{\\left(h^{2} + k^{2}\\right)^{0.5}} & 0 & 0 & 2 k\\\\0 & \\frac{2 h^{2}}{\\left(h^{2} + k^{2}\\right)^{0.5}} + \\frac{2 k^{2}}{\\left(h^{2} + k^{2}\\right)^{0.5}} & 2 k & 0\\\\0 & 2 k & \\frac{2 h^{2}}{\\left(h^{2} + k^{2}\\right)^{0.5}} + \\frac{2 k^{2}}{\\left(h^{2} + k^{2}\\right)^{0.5}} & 0\\\\2 k & 0 & 0 & \\frac{2 h^{2}}{\\left(h^{2} + k^{2}\\right)^{0.5}} - 2 h + \\frac{2 k^{2}}{\\left(h^{2} + k^{2}\\right)^{0.5}}\\end{matrix}\\right] = \\left[\\begin{matrix}2 h + 2 \\sqrt{h^{2} + k^{2}} & 0 & 0 & 2 k\\\\0 & 2 \\sqrt{h^{2} + k^{2}} & 2 k & 0\\\\0 & 2 k & 2 \\sqrt{h^{2} + k^{2}} & 0\\\\2 k & 0 & 0 & - 2 h + 2 \\sqrt{h^{2} + k^{2}}\\end{matrix}\\right]$"
          },
          "metadata": {},
          "execution_count": 11
        }
      ]
    },
    {
      "cell_type": "code",
      "source": [
        "H.eigenvals()"
      ],
      "metadata": {
        "colab": {
          "base_uri": "https://localhost:8080/",
          "height": 121
        },
        "id": "AbmfGHGXYIxq",
        "outputId": "ad15b0be-111c-4546-c084-a60381e0f05b"
      },
      "execution_count": null,
      "outputs": [
        {
          "output_type": "execute_result",
          "data": {
            "text/plain": [
              "⎧                                                                         ____\n",
              "⎪                  0.5                      0.5                  -1.0    ╱    \n",
              "⎨         ⎛ 2    2⎞                ⎛ 2    2⎞            ⎛ 2    2⎞       ╱  ⎛ 2\n",
              "⎪-2⋅k + 2⋅⎝h  + k ⎠   : 1, 2⋅k + 2⋅⎝h  + k ⎠   : 1, - 2⋅⎝h  + k ⎠    ⋅╲╱   ⎝h \n",
              "⎩                                                                             \n",
              "\n",
              "______________________________________________________________________________\n",
              "      1.0 ⎛                             1.0                    1.0⎞           \n",
              "    2⎞    ⎜   4      2  2    2 ⎛ 2    2⎞       4    2 ⎛ 2    2⎞   ⎟   ⎛ 2    2\n",
              " + k ⎠   ⋅⎝- h  - 2⋅h ⋅k  + h ⋅⎝h  + k ⎠    - k  + k ⋅⎝h  + k ⎠   ⎠ + ⎝h  + k \n",
              "                                                                              \n",
              "\n",
              "_____                                          _______________________________\n",
              " 3.0               0.5                -1.0    ╱          1.0 ⎛                \n",
              "⎞         ⎛ 2    2⎞          ⎛ 2    2⎞       ╱  ⎛ 2    2⎞    ⎜   4      2  2  \n",
              "⎠     + 2⋅⎝h  + k ⎠   : 1, 2⋅⎝h  + k ⎠    ⋅╲╱   ⎝h  + k ⎠   ⋅⎝- h  - 2⋅h ⋅k  +\n",
              "                                                                              \n",
              "\n",
              "________________________________________________________                    ⎫\n",
              "             1.0                    1.0⎞            3.0               0.5   ⎪\n",
              "  2 ⎛ 2    2⎞       4    2 ⎛ 2    2⎞   ⎟   ⎛ 2    2⎞         ⎛ 2    2⎞      ⎬\n",
              " h ⋅⎝h  + k ⎠    - k  + k ⋅⎝h  + k ⎠   ⎠ + ⎝h  + k ⎠     + 2⋅⎝h  + k ⎠   : 1⎪\n",
              "                                                                            ⎭"
            ],
            "text/latex": "$\\displaystyle \\left\\{ - 2 k + 2 \\left(h^{2} + k^{2}\\right)^{0.5} : 1, \\  2 k + 2 \\left(h^{2} + k^{2}\\right)^{0.5} : 1, \\  - \\frac{2 \\sqrt{\\left(h^{2} + k^{2}\\right)^{1.0} \\left(- h^{4} - 2 h^{2} k^{2} + h^{2} \\left(h^{2} + k^{2}\\right)^{1.0} - k^{4} + k^{2} \\left(h^{2} + k^{2}\\right)^{1.0}\\right) + \\left(h^{2} + k^{2}\\right)^{3.0}}}{\\left(h^{2} + k^{2}\\right)^{1.0}} + 2 \\left(h^{2} + k^{2}\\right)^{0.5} : 1, \\  \\frac{2 \\sqrt{\\left(h^{2} + k^{2}\\right)^{1.0} \\left(- h^{4} - 2 h^{2} k^{2} + h^{2} \\left(h^{2} + k^{2}\\right)^{1.0} - k^{4} + k^{2} \\left(h^{2} + k^{2}\\right)^{1.0}\\right) + \\left(h^{2} + k^{2}\\right)^{3.0}}}{\\left(h^{2} + k^{2}\\right)^{1.0}} + 2 \\left(h^{2} + k^{2}\\right)^{0.5} : 1\\right\\}$"
          },
          "metadata": {},
          "execution_count": 12
        }
      ]
    },
    {
      "cell_type": "code",
      "source": [
        "H.eigenvects()"
      ],
      "metadata": {
        "colab": {
          "base_uri": "https://localhost:8080/",
          "height": 111
        },
        "id": "4Upa9YvhYo4z",
        "outputId": "64558201-8ada-454a-8ca7-bf1f320f33bf"
      },
      "execution_count": null,
      "outputs": [
        {
          "output_type": "execute_result",
          "data": {
            "text/plain": [
              "⎡⎛      ⎡⎡                0.5     ⎤⎤⎞  ⎛                     ⎡⎡               \n",
              "⎢⎜      ⎢⎢       ⎛ 2    2⎞        ⎥⎥⎟  ⎜                     ⎢⎢       ⎛ 2    2\n",
              "⎢⎜      ⎢⎢    -k⋅⎝h  + k ⎠        ⎥⎥⎟  ⎜                     ⎢⎢     k⋅⎝h  + k \n",
              "⎢⎜      ⎢⎢────────────────────────⎥⎥⎟  ⎜                     ⎢⎢───────────────\n",
              "⎢⎜      ⎢⎢                0.5     ⎥⎥⎟  ⎜             0.5     ⎢⎢               \n",
              "⎢⎜      ⎢⎢ 2     ⎛ 2    2⎞       2⎥⎥⎟  ⎜    ⎛ 2    2⎞        ⎢⎢ 2     ⎛ 2    2\n",
              "⎢⎜0, 1, ⎢⎢h  + h⋅⎝h  + k ⎠    + k ⎥⎥⎟, ⎜4.0⋅⎝h  + k ⎠   , 1, ⎢⎢h  - h⋅⎝h  + k \n",
              "⎢⎜      ⎢⎢                        ⎥⎥⎟  ⎜                     ⎢⎢               \n",
              "⎢⎜      ⎢⎢           0            ⎥⎥⎟  ⎜                     ⎢⎢           0   \n",
              "⎢⎜      ⎢⎢                        ⎥⎥⎟  ⎜                     ⎢⎢               \n",
              "⎢⎜      ⎢⎢           0            ⎥⎥⎟  ⎜                     ⎢⎢           0   \n",
              "⎢⎜      ⎢⎢                        ⎥⎥⎟  ⎜                     ⎢⎢               \n",
              "⎣⎝      ⎣⎣          1.0           ⎦⎦⎠  ⎝                     ⎣⎣          1.0  \n",
              "\n",
              " 0.5     ⎤⎤⎞                                                                  \n",
              "⎞        ⎥⎥⎟                                                                  \n",
              "⎠        ⎥⎥⎟                                                                  \n",
              "─────────⎥⎥⎟  ⎛                              ⎡⎡ 0  ⎤⎤⎞  ⎛                     \n",
              " 0.5     ⎥⎥⎟  ⎜                      0.5     ⎢⎢    ⎥⎥⎟  ⎜                     \n",
              "⎞       2⎥⎥⎟  ⎜             ⎛ 2    2⎞        ⎢⎢-1.0⎥⎥⎟  ⎜            ⎛ 2    2⎞\n",
              "⎠    + k ⎥⎥⎟, ⎜-2.0⋅k + 2.0⋅⎝h  + k ⎠   , 1, ⎢⎢    ⎥⎥⎟, ⎜2.0⋅k + 2.0⋅⎝h  + k ⎠\n",
              "         ⎥⎥⎟  ⎜                              ⎢⎢1.0 ⎥⎥⎟  ⎜                     \n",
              "         ⎥⎥⎟  ⎜                              ⎢⎢    ⎥⎥⎟  ⎜                     \n",
              "         ⎥⎥⎟  ⎝                              ⎣⎣ 0  ⎦⎦⎠  ⎝                     \n",
              "         ⎥⎥⎟                                                                  \n",
              "         ⎥⎥⎟                                                                  \n",
              "         ⎦⎦⎠                                                                  \n",
              "\n",
              "                ⎤\n",
              "                ⎥\n",
              "                ⎥\n",
              "        ⎡⎡ 0 ⎤⎤⎞⎥\n",
              "0.5     ⎢⎢   ⎥⎥⎟⎥\n",
              "        ⎢⎢1.0⎥⎥⎟⎥\n",
              "   , 1, ⎢⎢   ⎥⎥⎟⎥\n",
              "        ⎢⎢1.0⎥⎥⎟⎥\n",
              "        ⎢⎢   ⎥⎥⎟⎥\n",
              "        ⎣⎣ 0 ⎦⎦⎠⎥\n",
              "                ⎥\n",
              "                ⎥\n",
              "                ⎦"
            ],
            "text/latex": "$\\displaystyle \\left[ \\left( 0, \\  1, \\  \\left[ \\left[\\begin{matrix}- \\frac{k \\left(h^{2} + k^{2}\\right)^{0.5}}{h^{2} + h \\left(h^{2} + k^{2}\\right)^{0.5} + k^{2}}\\\\0\\\\0\\\\1.0\\end{matrix}\\right]\\right]\\right), \\  \\left( 4.0 \\left(h^{2} + k^{2}\\right)^{0.5}, \\  1, \\  \\left[ \\left[\\begin{matrix}\\frac{k \\left(h^{2} + k^{2}\\right)^{0.5}}{h^{2} - h \\left(h^{2} + k^{2}\\right)^{0.5} + k^{2}}\\\\0\\\\0\\\\1.0\\end{matrix}\\right]\\right]\\right), \\  \\left( - 2.0 k + 2.0 \\left(h^{2} + k^{2}\\right)^{0.5}, \\  1, \\  \\left[ \\left[\\begin{matrix}0\\\\-1.0\\\\1.0\\\\0\\end{matrix}\\right]\\right]\\right), \\  \\left( 2.0 k + 2.0 \\left(h^{2} + k^{2}\\right)^{0.5}, \\  1, \\  \\left[ \\left[\\begin{matrix}0\\\\1.0\\\\1.0\\\\0\\end{matrix}\\right]\\right]\\right)\\right]$"
          },
          "metadata": {},
          "execution_count": 13
        }
      ]
    },
    {
      "cell_type": "code",
      "source": [
        "H.det()"
      ],
      "metadata": {
        "colab": {
          "base_uri": "https://localhost:8080/",
          "height": 73
        },
        "id": "L1BEawudY49Y",
        "outputId": "309a6dfd-a577-48e1-b0da-346dd09581a4"
      },
      "execution_count": null,
      "outputs": [
        {
          "output_type": "execute_result",
          "data": {
            "text/plain": [
              "         -2.0 ⎛                                      1.0⎞ ⎛                   \n",
              "⎛ 2    2⎞     ⎜   4      2  2      4      2 ⎛ 2    2⎞   ⎟ ⎜   4      2  2     \n",
              "⎝h  + k ⎠    ⋅⎝4⋅h  + 8⋅h ⋅k  + 4⋅k  - 4⋅k ⋅⎝h  + k ⎠   ⎠⋅⎝4⋅h  + 8⋅h ⋅k  - 4⋅\n",
              "\n",
              "            1.0                        1.0⎞\n",
              " 2 ⎛ 2    2⎞         4      2 ⎛ 2    2⎞   ⎟\n",
              "h ⋅⎝h  + k ⎠    + 4⋅k  - 4⋅k ⋅⎝h  + k ⎠   ⎠"
            ],
            "text/latex": "$\\displaystyle \\frac{\\left(4 h^{4} + 8 h^{2} k^{2} + 4 k^{4} - 4 k^{2} \\left(h^{2} + k^{2}\\right)^{1.0}\\right) \\left(4 h^{4} + 8 h^{2} k^{2} - 4 h^{2} \\left(h^{2} + k^{2}\\right)^{1.0} + 4 k^{4} - 4 k^{2} \\left(h^{2} + k^{2}\\right)^{1.0}\\right)}{\\left(h^{2} + k^{2}\\right)^{2.0}}$"
          },
          "metadata": {},
          "execution_count": 14
        }
      ]
    },
    {
      "cell_type": "code",
      "source": [
        "H_tot.eigenvals()"
      ],
      "metadata": {
        "colab": {
          "base_uri": "https://localhost:8080/",
          "height": 47
        },
        "id": "XJwtXIRKakcl",
        "outputId": "f721d9c5-bbad-4933-cfcc-1769b641dbbf"
      },
      "execution_count": null,
      "outputs": [
        {
          "output_type": "execute_result",
          "data": {
            "text/plain": [
              "⎧           _________                 _________                _________   ⎫\n",
              "⎨          ╱  2    2                 ╱  2    2                ╱  2    2    ⎬\n",
              "⎩0: 1, 4⋅╲╱  h  + k  : 1, -2⋅k + 2⋅╲╱  h  + k  : 1, 2⋅k + 2⋅╲╱  h  + k  : 1⎭"
            ],
            "text/latex": "$\\displaystyle \\left\\{ 0 : 1, \\  4 \\sqrt{h^{2} + k^{2}} : 1, \\  - 2 k + 2 \\sqrt{h^{2} + k^{2}} : 1, \\  2 k + 2 \\sqrt{h^{2} + k^{2}} : 1\\right\\}$"
          },
          "metadata": {},
          "execution_count": 15
        }
      ]
    },
    {
      "cell_type": "code",
      "source": [
        "H_tot.eigenvects()"
      ],
      "metadata": {
        "colab": {
          "base_uri": "https://localhost:8080/",
          "height": 102
        },
        "id": "mSW-OyLfaqcE",
        "outputId": "cb907711-a200-466b-b008-2d3bfb8e87df"
      },
      "execution_count": null,
      "outputs": [
        {
          "output_type": "execute_result",
          "data": {
            "text/plain": [
              "⎡⎛      ⎡⎡      -k        ⎤⎤⎞  ⎛                   ⎡⎡      -k        ⎤⎤⎞      \n",
              "⎢⎜      ⎢⎢────────────────⎥⎥⎟  ⎜                   ⎢⎢────────────────⎥⎥⎟      \n",
              "⎢⎜      ⎢⎢       _________⎥⎥⎟  ⎜                   ⎢⎢       _________⎥⎥⎟  ⎛   \n",
              "⎢⎜      ⎢⎢      ╱  2    2 ⎥⎥⎟  ⎜     _________     ⎢⎢      ╱  2    2 ⎥⎥⎟  ⎜   \n",
              "⎢⎜      ⎢⎢h + ╲╱  h  + k  ⎥⎥⎟  ⎜    ╱  2    2      ⎢⎢h - ╲╱  h  + k  ⎥⎥⎟  ⎜   \n",
              "⎢⎜0, 1, ⎢⎢                ⎥⎥⎟, ⎜4⋅╲╱  h  + k  , 1, ⎢⎢                ⎥⎥⎟, ⎜-2⋅\n",
              "⎢⎜      ⎢⎢       0        ⎥⎥⎟  ⎜                   ⎢⎢       0        ⎥⎥⎟  ⎜   \n",
              "⎢⎜      ⎢⎢                ⎥⎥⎟  ⎜                   ⎢⎢                ⎥⎥⎟  ⎜   \n",
              "⎢⎜      ⎢⎢       0        ⎥⎥⎟  ⎜                   ⎢⎢       0        ⎥⎥⎟  ⎝   \n",
              "⎢⎜      ⎢⎢                ⎥⎥⎟  ⎜                   ⎢⎢                ⎥⎥⎟      \n",
              "⎣⎝      ⎣⎣       1        ⎦⎦⎠  ⎝                   ⎣⎣       1        ⎦⎦⎠      \n",
              "\n",
              "                                                                ⎤\n",
              "                                                                ⎥\n",
              "                       ⎡⎡0 ⎤⎤⎞  ⎛                         ⎡⎡0⎤⎤⎞⎥\n",
              "         _________     ⎢⎢  ⎥⎥⎟  ⎜           _________     ⎢⎢ ⎥⎥⎟⎥\n",
              "        ╱  2    2      ⎢⎢-1⎥⎥⎟  ⎜          ╱  2    2      ⎢⎢1⎥⎥⎟⎥\n",
              "k + 2⋅╲╱  h  + k  , 1, ⎢⎢  ⎥⎥⎟, ⎜2⋅k + 2⋅╲╱  h  + k  , 1, ⎢⎢ ⎥⎥⎟⎥\n",
              "                       ⎢⎢1 ⎥⎥⎟  ⎜                         ⎢⎢1⎥⎥⎟⎥\n",
              "                       ⎢⎢  ⎥⎥⎟  ⎜                         ⎢⎢ ⎥⎥⎟⎥\n",
              "                       ⎣⎣0 ⎦⎦⎠  ⎝                         ⎣⎣0⎦⎦⎠⎥\n",
              "                                                                ⎥\n",
              "                                                                ⎦"
            ],
            "text/latex": "$\\displaystyle \\left[ \\left( 0, \\  1, \\  \\left[ \\left[\\begin{matrix}- \\frac{k}{h + \\sqrt{h^{2} + k^{2}}}\\\\0\\\\0\\\\1\\end{matrix}\\right]\\right]\\right), \\  \\left( 4 \\sqrt{h^{2} + k^{2}}, \\  1, \\  \\left[ \\left[\\begin{matrix}- \\frac{k}{h - \\sqrt{h^{2} + k^{2}}}\\\\0\\\\0\\\\1\\end{matrix}\\right]\\right]\\right), \\  \\left( - 2 k + 2 \\sqrt{h^{2} + k^{2}}, \\  1, \\  \\left[ \\left[\\begin{matrix}0\\\\-1\\\\1\\\\0\\end{matrix}\\right]\\right]\\right), \\  \\left( 2 k + 2 \\sqrt{h^{2} + k^{2}}, \\  1, \\  \\left[ \\left[\\begin{matrix}0\\\\1\\\\1\\\\0\\end{matrix}\\right]\\right]\\right)\\right]$"
          },
          "metadata": {},
          "execution_count": 16
        }
      ]
    },
    {
      "cell_type": "markdown",
      "source": [],
      "metadata": {
        "id": "KsRwoWVmsyhp"
      }
    },
    {
      "cell_type": "code",
      "source": [
        "Eq(H_tot.det(),0)"
      ],
      "metadata": {
        "colab": {
          "base_uri": "https://localhost:8080/",
          "height": 37
        },
        "id": "j4mYe8KebP7C",
        "outputId": "6be945d2-c62c-4b07-97c9-a754f3afb6ea"
      },
      "execution_count": null,
      "outputs": [
        {
          "output_type": "execute_result",
          "data": {
            "text/plain": [
              "True"
            ],
            "text/latex": "$\\displaystyle \\text{True}$"
          },
          "metadata": {},
          "execution_count": 17
        }
      ]
    }
  ]
}